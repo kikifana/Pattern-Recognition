{
 "cells": [
  {
   "cell_type": "code",
   "execution_count": 299,
   "id": "22499887",
   "metadata": {},
   "outputs": [],
   "source": [
    "import pandas as pd\n",
    "data = pd.read_csv(\"seeds_dataset.txt\", sep = \"\\s+\", header=None)\n",
    "data.columns = ['A', 'C','P','L','W','AC','LK','Classes']\n",
    "data.keys()\n",
    "import numpy as np\n"
   ]
  },
  {
   "cell_type": "code",
   "execution_count": 300,
   "id": "ecb0ad32",
   "metadata": {},
   "outputs": [],
   "source": [
    "import matplotlib.pyplot as plt\n",
    "import seaborn as sns\n"
   ]
  },
  {
   "cell_type": "code",
   "execution_count": 301,
   "id": "d8ab6f3f",
   "metadata": {},
   "outputs": [],
   "source": [
    "## %matplotlib inline\n",
    "#2.A\n",
    "\n",
    "# split all classes in 40,15,15 train,val,test for each one \n",
    "X_initial = data.loc[:, ~data.columns.isin(['Classes'])]\n",
    "Y_initial = data['Classes']\n",
    "\n",
    "from sklearn.model_selection import train_test_split\n",
    "Xtrain1,Xtest_val1,Ytrain1,Ytest_val1 =train_test_split(X_initial,Y_initial,train_size=0.5756,random_state=114,shuffle=True,stratify=Y_initial)\n",
    "Xval1,Xtest1,Yval1,Ytest1 = train_test_split(Xtest_val1,Ytest_val1,test_size= 0.5,random_state=114,shuffle=True,stratify=Ytest_val1)\n",
    "\n",
    "#2.B \n",
    "# split only 1,3 classes(Kama,Canadian)\n",
    "data_13 = data[data['Classes'] != 2]\n",
    "X = data_13.loc[:, ~data_13.columns.isin(['Classes'])]\n",
    "Y = data_13['Classes']\n"
   ]
  },
  {
   "cell_type": "markdown",
   "id": "466cc8d3",
   "metadata": {},
   "source": [
    "Seperation of dataset in 40,15,15% train,validation and test for each class"
   ]
  },
  {
   "cell_type": "code",
   "execution_count": 302,
   "id": "cd34e686",
   "metadata": {},
   "outputs": [],
   "source": [
    "from sklearn.model_selection import train_test_split\n",
    "Xtrain,Xtest_val,Ytrain,Ytest_val =train_test_split(X,Y,train_size=0.5756,random_state=116,shuffle=True,stratify=Y)\n",
    "Xval,Xtest,Yval,Ytest = train_test_split(Xtest_val,Ytest_val,test_size= 0.5,random_state=116,shuffle=True,stratify=Ytest_val)"
   ]
  },
  {
   "cell_type": "code",
   "execution_count": 303,
   "id": "1ae5ebd5",
   "metadata": {},
   "outputs": [
    {
     "name": "stdout",
     "output_type": "stream",
     "text": [
      "(80, 7)\n",
      "(80,)\n",
      "(30, 7)\n",
      "(30,)\n",
      "(30, 7)\n",
      "(30,)\n"
     ]
    },
    {
     "data": {
      "text/plain": [
       "<function sklearn.model_selection._split.train_test_split(*arrays, test_size=None, train_size=None, random_state=None, shuffle=True, stratify=None)>"
      ]
     },
     "execution_count": 303,
     "metadata": {},
     "output_type": "execute_result"
    }
   ],
   "source": [
    "print(Xtrain.shape), print(Ytrain.shape)\n",
    "print(Xval.shape), print(Yval.shape)\n",
    "print(Xtest.shape), print(Ytest.shape)\n",
    "train_test_split"
   ]
  },
  {
   "cell_type": "code",
   "execution_count": 304,
   "id": "2250cf8c",
   "metadata": {},
   "outputs": [],
   "source": [
    "from sklearn.svm import SVC \n"
   ]
  },
  {
   "cell_type": "code",
   "execution_count": 305,
   "id": "943ad5a9",
   "metadata": {},
   "outputs": [],
   "source": [
    "\n",
    "from sklearn.model_selection import GridSearchCV"
   ]
  },
  {
   "cell_type": "code",
   "execution_count": 306,
   "id": "dfd7ac93",
   "metadata": {},
   "outputs": [],
   "source": [
    "param_grid = {'C':[0.1,1,10,100,1000,10000]}\n"
   ]
  },
  {
   "cell_type": "code",
   "execution_count": 307,
   "id": "8de27b0a",
   "metadata": {},
   "outputs": [
    {
     "name": "stdout",
     "output_type": "stream",
     "text": [
      "Fitting 5 folds for each of 6 candidates, totalling 30 fits\n",
      "[CV 1/5; 1/6] START C=0.1.......................................................\n",
      "[CV 1/5; 1/6] END ........................C=0.1;, score=0.688 total time=   0.0s\n",
      "[CV 2/5; 1/6] START C=0.1.......................................................\n",
      "[CV 2/5; 1/6] END ........................C=0.1;, score=0.938 total time=   0.0s\n",
      "[CV 3/5; 1/6] START C=0.1.......................................................\n",
      "[CV 3/5; 1/6] END ........................C=0.1;, score=1.000 total time=   0.0s\n",
      "[CV 4/5; 1/6] START C=0.1.......................................................\n",
      "[CV 4/5; 1/6] END ........................C=0.1;, score=0.875 total time=   0.0s\n",
      "[CV 5/5; 1/6] START C=0.1.......................................................\n",
      "[CV 5/5; 1/6] END ........................C=0.1;, score=0.938 total time=   0.0s\n",
      "[CV 1/5; 2/6] START C=1.........................................................\n",
      "[CV 1/5; 2/6] END ..........................C=1;, score=0.688 total time=   0.0s\n",
      "[CV 2/5; 2/6] START C=1.........................................................\n",
      "[CV 2/5; 2/6] END ..........................C=1;, score=1.000 total time=   0.0s\n",
      "[CV 3/5; 2/6] START C=1.........................................................\n",
      "[CV 3/5; 2/6] END ..........................C=1;, score=1.000 total time=   0.0s\n",
      "[CV 4/5; 2/6] START C=1.........................................................\n",
      "[CV 4/5; 2/6] END ..........................C=1;, score=0.875 total time=   0.0s\n",
      "[CV 5/5; 2/6] START C=1.........................................................\n",
      "[CV 5/5; 2/6] END ..........................C=1;, score=0.938 total time=   0.0s\n",
      "[CV 1/5; 3/6] START C=10........................................................\n",
      "[CV 1/5; 3/6] END .........................C=10;, score=0.750 total time=   0.0s\n",
      "[CV 2/5; 3/6] START C=10........................................................\n",
      "[CV 2/5; 3/6] END .........................C=10;, score=1.000 total time=   0.0s\n",
      "[CV 3/5; 3/6] START C=10........................................................\n",
      "[CV 3/5; 3/6] END .........................C=10;, score=1.000 total time=   0.0s\n",
      "[CV 4/5; 3/6] START C=10........................................................\n",
      "[CV 4/5; 3/6] END .........................C=10;, score=0.875 total time=   0.0s\n",
      "[CV 5/5; 3/6] START C=10........................................................\n",
      "[CV 5/5; 3/6] END .........................C=10;, score=0.875 total time=   0.0s\n",
      "[CV 1/5; 4/6] START C=100.......................................................\n",
      "[CV 1/5; 4/6] END ........................C=100;, score=0.812 total time=   0.0s\n",
      "[CV 2/5; 4/6] START C=100.......................................................\n",
      "[CV 2/5; 4/6] END ........................C=100;, score=1.000 total time=   0.0s\n",
      "[CV 3/5; 4/6] START C=100.......................................................\n",
      "[CV 3/5; 4/6] END ........................C=100;, score=1.000 total time=   0.0s\n",
      "[CV 4/5; 4/6] START C=100.......................................................\n",
      "[CV 4/5; 4/6] END ........................C=100;, score=0.938 total time=   0.0s\n",
      "[CV 5/5; 4/6] START C=100.......................................................\n",
      "[CV 5/5; 4/6] END ........................C=100;, score=0.875 total time=   0.0s\n",
      "[CV 1/5; 5/6] START C=1000......................................................\n",
      "[CV 1/5; 5/6] END .......................C=1000;, score=0.812 total time=   0.0s\n",
      "[CV 2/5; 5/6] START C=1000......................................................\n",
      "[CV 2/5; 5/6] END .......................C=1000;, score=1.000 total time=   0.0s\n",
      "[CV 3/5; 5/6] START C=1000......................................................\n",
      "[CV 3/5; 5/6] END .......................C=1000;, score=1.000 total time=   0.0s\n",
      "[CV 4/5; 5/6] START C=1000......................................................\n",
      "[CV 4/5; 5/6] END .......................C=1000;, score=0.938 total time=   0.0s\n",
      "[CV 5/5; 5/6] START C=1000......................................................\n",
      "[CV 5/5; 5/6] END .......................C=1000;, score=0.875 total time=   0.0s\n",
      "[CV 1/5; 6/6] START C=10000.....................................................\n",
      "[CV 1/5; 6/6] END ......................C=10000;, score=0.812 total time=   0.0s\n",
      "[CV 2/5; 6/6] START C=10000.....................................................\n",
      "[CV 2/5; 6/6] END ......................C=10000;, score=1.000 total time=   0.0s\n",
      "[CV 3/5; 6/6] START C=10000.....................................................\n",
      "[CV 3/5; 6/6] END ......................C=10000;, score=0.938 total time=   0.0s\n",
      "[CV 4/5; 6/6] START C=10000.....................................................\n",
      "[CV 4/5; 6/6] END ......................C=10000;, score=1.000 total time=   0.0s\n",
      "[CV 5/5; 6/6] START C=10000.....................................................\n",
      "[CV 5/5; 6/6] END ......................C=10000;, score=0.875 total time=   0.0s\n"
     ]
    },
    {
     "data": {
      "text/plain": [
       "GridSearchCV(estimator=SVC(), param_grid={'C': [0.1, 1, 10, 100, 1000, 10000]},\n",
       "             verbose=10)"
      ]
     },
     "execution_count": 307,
     "metadata": {},
     "output_type": "execute_result"
    }
   ],
   "source": [
    "grid = GridSearchCV(SVC(),param_grid,verbose=10)\n",
    "grid.fit(Xtrain,Ytrain)"
   ]
  },
  {
   "cell_type": "code",
   "execution_count": 308,
   "id": "c233e497",
   "metadata": {},
   "outputs": [
    {
     "data": {
      "text/plain": [
       "{'C': 100}"
      ]
     },
     "execution_count": 308,
     "metadata": {},
     "output_type": "execute_result"
    }
   ],
   "source": [
    "grid.best_params_"
   ]
  },
  {
   "cell_type": "code",
   "execution_count": 309,
   "id": "9a16e5ba",
   "metadata": {},
   "outputs": [
    {
     "data": {
      "text/plain": [
       "SVC(C=100)"
      ]
     },
     "execution_count": 309,
     "metadata": {},
     "output_type": "execute_result"
    }
   ],
   "source": [
    "grid.best_estimator_"
   ]
  },
  {
   "cell_type": "code",
   "execution_count": 310,
   "id": "68981780",
   "metadata": {},
   "outputs": [
    {
     "data": {
      "text/plain": [
       "array([3, 1, 1, 3, 3, 3, 1, 1, 3, 1, 3, 1, 1, 3, 3, 1, 3, 1, 1, 3, 1, 1,\n",
       "       3, 3, 3, 1, 1, 3, 3, 3], dtype=int64)"
      ]
     },
     "execution_count": 310,
     "metadata": {},
     "output_type": "execute_result"
    }
   ],
   "source": [
    "grid_predictions = grid.predict(Xval)\n",
    "grid_predictions"
   ]
  },
  {
   "cell_type": "code",
   "execution_count": 311,
   "id": "1b22c23e",
   "metadata": {},
   "outputs": [
    {
     "data": {
      "text/plain": [
       "96.66666666666667"
      ]
     },
     "execution_count": 311,
     "metadata": {},
     "output_type": "execute_result"
    }
   ],
   "source": [
    "from sklearn.metrics import accuracy_score\n",
    "accuracy = accuracy_score(Yval,grid_predictions)*100\n",
    "accuracy"
   ]
  },
  {
   "cell_type": "code",
   "execution_count": 312,
   "id": "1376b156",
   "metadata": {},
   "outputs": [
    {
     "name": "stdout",
     "output_type": "stream",
     "text": [
      "\"Best accuracy for the validate set gives the box constraint {'C': 100}\n",
      "      with accuracy 96.667\n"
     ]
    }
   ],
   "source": [
    "print(\"\"\"\"Best accuracy for the validate set gives the box constraint {q}\n",
    "      with accuracy {r:1.3f}\"\"\".format(r=accuracy,q=grid.best_params_))"
   ]
  },
  {
   "cell_type": "code",
   "execution_count": 313,
   "id": "e0f6609e",
   "metadata": {},
   "outputs": [
    {
     "name": "stdout",
     "output_type": "stream",
     "text": [
      "The classification error is 0.100\n"
     ]
    }
   ],
   "source": [
    "from sklearn.svm import SVC \n",
    "svm2 = SVC(kernel='linear',C=100)\n",
    "svm2.fit(Xtrain,Ytrain)\n",
    "from sklearn.metrics import accuracy_score\n",
    "y_predictions = svm2.predict(Xtest)\n",
    "accuracy_test = accuracy_score(Ytest,y_predictions)\n",
    "error_rate = 1 - accuracy_test\n",
    "print(\"The classification error is {r:1.3f}\".format(r=error_rate))"
   ]
  },
  {
   "cell_type": "code",
   "execution_count": 314,
   "id": "05487d69",
   "metadata": {},
   "outputs": [
    {
     "name": "stdout",
     "output_type": "stream",
     "text": [
      "The mean of the classification error for the test set is 0.179\n",
      "The standard deviation of the classification error for the test set is 0.000\n"
     ]
    }
   ],
   "source": [
    "#2C\n",
    "from sklearn.model_selection import StratifiedKFold\n",
    "accuracy_test=[]\n",
    "skf = StratifiedKFold(n_splits=5,random_state = None, shuffle=False)\n",
    "skf.get_n_splits(X)\n",
    "\n",
    "for train_index, test_index in skf.split(X,Y):\n",
    "    \n",
    "    X_train, X_test = X.iloc[train_index], X.iloc[test_index]\n",
    "    y_train, y_test = Y.iloc[train_index], Y.iloc[test_index]\n",
    "    svm2.fit(X_train,y_train)\n",
    "    Y_k_pred = svm2.predict(X_test)\n",
    "    from sklearn.metrics import accuracy_score\n",
    "\n",
    "    accuracy_test = accuracy_score(y_test,Y_k_pred)\n",
    "    error_rate = 1 - accuracy_test\n",
    "import numpy as np\n",
    "z1=np.array(error_rate).mean()\n",
    "z2 =np.array(error_rate).std()\n",
    "print(\"The mean of the classification error for the test set is {r1:1.3f}\".format(r1=z1))\n",
    "print(\"The standard deviation of the classification error for the test set is {r2:1.3f}\".format(r2=z2))"
   ]
  },
  {
   "cell_type": "code",
   "execution_count": 315,
   "id": "1d1aa232",
   "metadata": {},
   "outputs": [
    {
     "name": "stdout",
     "output_type": "stream",
     "text": [
      " Classification error with poly kernel is 0.214\n"
     ]
    }
   ],
   "source": [
    "#2.D\n",
    "# polynomial kernel\n",
    "\n",
    "from sklearn.model_selection import StratifiedKFold\n",
    "accuracy_test=[]\n",
    "skf = StratifiedKFold(n_splits=5,random_state = None, shuffle=False)\n",
    "skf.get_n_splits(X)\n",
    "\n",
    "for train_index, test_index in skf.split(X,Y):\n",
    "    \n",
    "    X_train, X_test = X.iloc[train_index], X.iloc[test_index]\n",
    "    y_train, y_test = Y.iloc[train_index], Y.iloc[test_index]\n",
    "    from sklearn.svm import SVC \n",
    "    svm3 = SVC(kernel='poly',C=100)\n",
    "    svm3.fit(X_train,y_train)\n",
    "    Y_k_pred_pol = svm3.predict(X_test)\n",
    "    from sklearn.metrics import accuracy_score\n",
    "\n",
    "    accuracy_test = accuracy_score(y_test,Y_k_pred_pol)\n",
    "    error_rate = 1 - accuracy_test\n",
    "import numpy as np\n",
    "print(\" Classification error with poly kernel is {r:1.3f}\".format(r= error_rate))"
   ]
  },
  {
   "cell_type": "code",
   "execution_count": 316,
   "id": "6a6d7f41",
   "metadata": {},
   "outputs": [
    {
     "name": "stdout",
     "output_type": "stream",
     "text": [
      " Classification error with rbf kernel is 0.250\n"
     ]
    }
   ],
   "source": [
    "#2.D\n",
    "# rbf kernel\n",
    "\n",
    "from sklearn.model_selection import StratifiedKFold\n",
    "accuracy_test=[]\n",
    "skf = StratifiedKFold(n_splits=5,random_state = None, shuffle=False)\n",
    "skf.get_n_splits(X)\n",
    "\n",
    "for train_index, test_index in skf.split(X,Y):\n",
    "    \n",
    "    X_train, X_test = X.iloc[train_index], X.iloc[test_index]\n",
    "    y_train, y_test = Y.iloc[train_index], Y.iloc[test_index]\n",
    "    from sklearn.svm import SVC \n",
    "    svm4 = SVC(kernel='rbf',C=100)\n",
    "    svm4.fit(X_train,y_train)\n",
    "    Y_k_pred_pol = svm4.predict(X_test)\n",
    "    from sklearn.metrics import accuracy_score\n",
    "\n",
    "    accuracy_test = accuracy_score(y_test,Y_k_pred_pol)\n",
    "    error_rate = 1 - accuracy_test\n",
    "import numpy as np\n",
    "print(\" Classification error with rbf kernel is {r:1.3f}\".format(r= error_rate))"
   ]
  },
  {
   "cell_type": "code",
   "execution_count": 317,
   "id": "1000c3e1",
   "metadata": {},
   "outputs": [
    {
     "name": "stdout",
     "output_type": "stream",
     "text": [
      " Classification error with sigmoid kernel is 0.536\n"
     ]
    }
   ],
   "source": [
    "# sigmoid kernel\n",
    "from sklearn.model_selection import StratifiedKFold\n",
    "accuracy_test=[]\n",
    "skf = StratifiedKFold(n_splits=5,random_state = None, shuffle=False)\n",
    "skf.get_n_splits(X)\n",
    "\n",
    "for train_index, test_index in skf.split(X,Y):\n",
    "    \n",
    "    X_train, X_test = X.iloc[train_index], X.iloc[test_index]\n",
    "    y_train, y_test = Y.iloc[train_index], Y.iloc[test_index]\n",
    "    from sklearn.svm import SVC \n",
    "    svm5 = SVC(kernel='sigmoid',C=100)\n",
    "    svm5.fit(X_train,y_train)\n",
    "    Y_k_pred_pol = svm5.predict(X_test)\n",
    "    from sklearn.metrics import accuracy_score\n",
    "\n",
    "    accuracy_test = accuracy_score(y_test,Y_k_pred_pol)\n",
    "    error_rate = 1 - accuracy_test\n",
    "import numpy as np\n",
    "print(\" Classification error with sigmoid kernel is {r:1.3f}\".format(r= error_rate))"
   ]
  },
  {
   "cell_type": "code",
   "execution_count": 318,
   "id": "dff4f059",
   "metadata": {},
   "outputs": [
    {
     "name": "stdout",
     "output_type": "stream",
     "text": [
      "The classification accuracy is 88.889\n"
     ]
    }
   ],
   "source": [
    "#2E using seperate SVMs for one versus one \n",
    "X_initial = data.loc[:, ~data.columns.isin(['Classes'])]\n",
    "Y_initial = data['Classes']\n",
    "\n",
    "from sklearn.model_selection import train_test_split\n",
    "Xtrain1,Xtest_val1,Ytrain1,Ytest_val1 =train_test_split(X_initial,Y_initial,train_size=0.5756,random_state =5,shuffle=True,stratify=Y_initial)\n",
    "Xval1,Xtest1,Yval1,Ytest1 = train_test_split(Xtest_val1,Ytest_val1,test_size= 0.5,random_state =5,shuffle=True,stratify=Ytest_val1)\n",
    "Xtrain1 \n",
    "# 1 - 2 classes\n",
    "\n",
    "data_12 = data[data['Classes'] != 3]\n",
    "X12 = data_12.loc[:, ~data_12.columns.isin(['Classes'])]\n",
    "Y12 = data_12['Classes']\n",
    "\n",
    "Xtrain12,Xtest_val12,Ytrain12,Ytest_val12 =train_test_split(X12,Y12,train_size=0.5756,random_state =235,shuffle=True,stratify=Y12)\n",
    "Xval12,Xtest12,Yval12,Ytest12 = train_test_split(Xtest_val12,Ytest_val12,test_size= 0.5,random_state =235,shuffle=True,stratify=Ytest_val12)\n",
    "from sklearn.svm import SVC \n",
    "svm12 = SVC(kernel='linear')\n",
    "svm12.fit(Xtrain12,Ytrain12)\n",
    "\n",
    "from sklearn.metrics import accuracy_score\n",
    "y_predictions12 = svm12.predict(Xtest12)\n",
    "accuracy_test12 = accuracy_score(Ytest12,y_predictions12)*100\n",
    "\n",
    "# 1 - 3 classes\n",
    "data_13 = data[data['Classes'] != 2]\n",
    "X13 = data_13.loc[:, ~data_13.columns.isin(['Classes'])]\n",
    "Y13 = data_13['Classes']\n",
    "\n",
    "Xtrain13,Xtest_val13,Ytrain13,Ytest_val13 =train_test_split(X13,Y13,train_size=0.5756,random_state =235,shuffle=True,stratify=Y13)\n",
    "Xval13,Xtest13,Yval13,Ytest13 = train_test_split(Xtest_val13,Ytest_val13,test_size= 0.5,random_state =235,shuffle=True,stratify=Ytest_val13)\n",
    "\n",
    "svm13 = SVC(kernel='linear')\n",
    "svm13.fit(Xtrain13,Ytrain13)\n",
    "\n",
    "\n",
    "y_predictions13 = svm13.predict(Xtest13)\n",
    "accuracy_test13 = accuracy_score(Ytest13,y_predictions13)*100\n",
    "\n",
    "# 2 - 3 classes\n",
    "data_23 = data[data['Classes'] != 1]\n",
    "X23 = data_23.loc[:, ~data_23.columns.isin(['Classes'])]\n",
    "Y23 = data_23['Classes']\n",
    "\n",
    "Xtrain23,Xtest_val23,Ytrain23,Ytest_val23 =train_test_split(X23,Y23,train_size=0.5756,random_state =235,shuffle=True,stratify=Y23)\n",
    "Xval23,Xtest23,Yval23,Ytest23 = train_test_split(Xtest_val23,Ytest_val23,test_size= 0.5,random_state =235,shuffle=True,stratify=Ytest_val23)\n",
    "\n",
    "svm23 = SVC(kernel='linear')\n",
    "svm23.fit(Xtrain23,Ytrain23)\n",
    "X_initial = data.loc[:, ~data.columns.isin(['Classes'])]\n",
    "Y_initial = data['Classes']\n",
    "y_predictions23 = svm23.predict(Xtest23)\n",
    "accuracy_test23 = accuracy_score(Ytest23,y_predictions23)*100\n",
    "\n",
    "from sklearn.ensemble import VotingClassifier\n",
    "clf_voting = VotingClassifier( estimators =[('12',svm12),('13',svm13),('23',svm23)])\n",
    "clf_voting.fit(Xtrain1,Ytrain1)\n",
    "y_pred = clf_voting.predict(Xtest1)\n",
    "acc = accuracy_score(Ytest1,y_pred)*100\n",
    "\n",
    "print(\"The classification accuracy is {r:1.3f}\".format(r=acc))\n",
    "\n",
    "\n",
    "\n"
   ]
  },
  {
   "cell_type": "code",
   "execution_count": 319,
   "id": "74ee0180",
   "metadata": {},
   "outputs": [
    {
     "data": {
      "image/png": "[encoded data removed]",
      "text/plain": [
       "<Figure size 432x288 with 2 Axes>"
      ]
     },
     "metadata": {
      "needs_background": "light"
     },
     "output_type": "display_data"
    }
   ],
   "source": [
    "import matplotlib.pyplot as plt\n",
    "\n",
    "from sklearn.metrics import ConfusionMatrixDisplay\n",
    "ConfusionMatrixDisplay.from_estimator(clf_voting, Xtest1, Ytest1)\n",
    "plt.show()"
   ]
  },
  {
   "cell_type": "code",
   "execution_count": 320,
   "id": "c4b0a536",
   "metadata": {},
   "outputs": [
    {
     "name": "stdout",
     "output_type": "stream",
     "text": [
      "The classification accuracy is 84.444\n"
     ]
    }
   ],
   "source": [
    "#2.E using ovo function\n",
    "X_initial = data.loc[:, ~data.columns.isin(['Classes'])]\n",
    "Y_initial = data['Classes']\n",
    "from sklearn.model_selection import train_test_split\n",
    "Xtrain1,Xtest_val1,Ytrain1,Ytest_val1 =train_test_split(X_initial,Y_initial,train_size=0.5756,random_state=104,shuffle=True,stratify=Y_initial)\n",
    "Xval1,Xtest1,Yval1,Ytest1 = train_test_split(Xtest_val1,Ytest_val1,test_size= 0.5,random_state=104,shuffle=True,stratify=Ytest_val1)\n",
    "from sklearn.svm import SVC\n",
    "from sklearn.multiclass import OneVsOneClassifier\n",
    "# define model\n",
    "model = SVC()\n",
    "# define ovo strategy\n",
    "ovo = OneVsOneClassifier(model)\n",
    "# fit model\n",
    "ovo.fit(Xtrain1, Ytrain1)\n",
    "# make predictions\n",
    "Ytest_pred = ovo.predict(Xtest1)\n",
    "from sklearn.metrics import accuracy_score\n",
    "\n",
    "accuracy_test = accuracy_score(Ytest1,Ytest_pred)*100\n",
    "error_rate = 1 - accuracy_test\n",
    "print(\"The classification accuracy is {r:1.3f}\".format(r=accuracy_test))"
   ]
  },
  {
   "cell_type": "code",
   "execution_count": 321,
   "id": "99705168",
   "metadata": {},
   "outputs": [
    {
     "data": {
      "image/png": "[encoded data removed]",
      "text/plain": [
       "<Figure size 432x288 with 2 Axes>"
      ]
     },
     "metadata": {
      "needs_background": "light"
     },
     "output_type": "display_data"
    }
   ],
   "source": [
    "import matplotlib.pyplot as plt\n",
    "\n",
    "from sklearn.metrics import ConfusionMatrixDisplay\n",
    "ConfusionMatrixDisplay.from_estimator(ovo, Xtest1, Ytest1)\n",
    "plt.show()"
   ]
  },
  {
   "cell_type": "code",
   "execution_count": 322,
   "id": "27080ac4",
   "metadata": {},
   "outputs": [
    {
     "name": "stdout",
     "output_type": "stream",
     "text": [
      "The mean of the classification error for the test set is 0.179\n",
      "The deviation of the classification error for the test set is 0.000\n"
     ]
    }
   ],
   "source": [
    "#2C using only kfold\n",
    "from sklearn.model_selection import KFold\n",
    "kf = KFold(n_splits=5)\n",
    "kf.get_n_splits(X)\n",
    "KFold(n_splits=5,random_state = None, shuffle=False)\n",
    "for train_index, test_index in kf.split(X,Y):\n",
    "    \n",
    "    X_train, X_test = X.iloc[train_index], X.iloc[test_index]\n",
    "    y_train, y_test = Y.iloc[train_index], Y.iloc[test_index]\n",
    "    svm2.fit(X_train,y_train)\n",
    "    Y_k_pred = svm2.predict(X_test)\n",
    "    from sklearn.metrics import accuracy_score\n",
    "\n",
    "    accuracy_test = accuracy_score(y_test,Y_k_pred)\n",
    "    error_rate = 1 - accuracy_test\n",
    "import numpy as np\n",
    "z=np.array(accuracy_test).mean()\n",
    "print(\"The mean of the classification error for the test set is {r1:1.3f}\".format(r1=1-z))\n",
    "print(\"The deviation of the classification error for the test set is {r2:1.3f}\".format(r2=error_rate.std()))\n",
    "\n",
    "\n",
    "\n"
   ]
  },
  {
   "cell_type": "code",
   "execution_count": null,
   "id": "6c8563ba",
   "metadata": {},
   "outputs": [],
   "source": [
    "\n",
    "\n"
   ]
  },
  {
   "cell_type": "code",
   "execution_count": null,
   "id": "768bb8ff",
   "metadata": {},
   "outputs": [],
   "source": []
  },
  {
   "cell_type": "code",
   "execution_count": null,
   "id": "aa716306",
   "metadata": {},
   "outputs": [],
   "source": [
    "\n"
   ]
  },
  {
   "cell_type": "code",
   "execution_count": null,
   "id": "b9958f92",
   "metadata": {},
   "outputs": [],
   "source": [
    "\n"
   ]
  },
  {
   "cell_type": "code",
   "execution_count": null,
   "id": "0d736d31",
   "metadata": {},
   "outputs": [],
   "source": [
    "\n",
    "\n"
   ]
  },
  {
   "cell_type": "code",
   "execution_count": null,
   "id": "c2bf8de2",
   "metadata": {},
   "outputs": [],
   "source": []
  },
  {
   "cell_type": "code",
   "execution_count": null,
   "id": "23b44a84",
   "metadata": {},
   "outputs": [],
   "source": []
  },
  {
   "cell_type": "code",
   "execution_count": null,
   "id": "0ad0089e",
   "metadata": {},
   "outputs": [],
   "source": []
  }
 ],
 "metadata": {
  "kernelspec": {
   "display_name": "Python 3 (ipykernel)",
   "language": "python",
   "name": "python3"
  },
  "language_info": {
   "codemirror_mode": {
    "name": "ipython",
    "version": 3
   },
   "file_extension": ".py",
   "mimetype": "text/x-python",
   "name": "python",
   "nbconvert_exporter": "python",
   "pygments_lexer": "ipython3",
   "version": "3.9.12"
  }
 },
 "nbformat": 4,
 "nbformat_minor": 5
}
