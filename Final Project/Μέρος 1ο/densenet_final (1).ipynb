{
  "nbformat": 4,
  "nbformat_minor": 0,
  "metadata": {
    "colab": {
      "provenance": []
    },
    "kernelspec": {
      "name": "python3",
      "display_name": "Python 3"
    },
    "language_info": {
      "name": "python"
    },
    "accelerator": "GPU",
    "gpuClass": "standard"
  },
  "cells": [
    {
      "cell_type": "markdown",
      "source": [
        "## 1. Μέρος 1ο – Ταξινόμηση με Συνελικτικά Νευρωνικά Δίκτυα (60%)\n"
      ],
      "metadata": {
        "id": "kd0KyocpiVr3"
      }
    },
    {
      "cell_type": "markdown",
      "source": [
        "### d. Πειραματιστείτε και προτείνετε ένα CNN δικής σας έμπνευσης που να βελτιστοποιεί την ακρίβεια ταξινόμησης στο test set χωρίς ενδείξεις overfitting."
      ],
      "metadata": {
        "id": "KnN63lxaihjG"
      }
    },
    {
      "cell_type": "markdown",
      "source": [
        "Παρακάτω, παρουσιάζεται ένα δίκτυο DenseNet για το cifar10"
      ],
      "metadata": {
        "id": "dkm5kMaAinkn"
      }
    },
    {
      "cell_type": "code",
      "execution_count": null,
      "metadata": {
        "id": "Th-yF37ZAr-5"
      },
      "outputs": [],
      "source": [
        "import numpy as np \n",
        "import pandas as pd\n",
        "import os\n",
        "import time\n",
        "import matplotlib.pyplot as plt\n",
        "import torch\n",
        "import torch.nn as nn\n",
        "import torch.nn.functional as F\n",
        "from torch.optim import SGD,Adam,lr_scheduler\n",
        "from torch.utils.data import random_split\n",
        "import torchvision\n",
        "from torchvision import transforms, datasets\n",
        "from torch.utils.data import DataLoader"
      ]
    },
    {
      "cell_type": "code",
      "source": [
        "train_transform = transforms.Compose([\n",
        "                                      transforms.RandomHorizontalFlip(p = 0.4), # FLips the image w.r.t horizontal axis\n",
        "                                      transforms.RandomRotation(30), #Rotates the image to a specified angel\n",
        "                                      transforms.Pad(4),\n",
        "                                      transforms.RandomAffine(0, shear=10, scale=(0.8,1.2)), #Performs actions like zooms, change shear angles.\n",
        "                                      transforms.ColorJitter(brightness=0.2, contrast=0.2, saturation=0.2), # Set the color params\n",
        "                                      transforms.ToTensor(), # comvert the image to tensor so that it can work with torch\n",
        "                                      transforms.Normalize((0.5, 0.5, 0.5), (0.5, 0.5, 0.5)) #Normalize all the images\n",
        "                               ])\n",
        " \n",
        " \n",
        "test_transform = transforms.Compose([\n",
        "                               transforms.Pad(4),\n",
        "                               transforms.ToTensor(),\n",
        "                               transforms.Normalize((0.5, 0.5, 0.5), (0.5, 0.5, 0.5))\n",
        "                               ])"
      ],
      "metadata": {
        "id": "-6D_dNtMAzRH"
      },
      "execution_count": null,
      "outputs": []
    },
    {
      "cell_type": "code",
      "source": [
        "train_data = datasets.CIFAR10(root='data', train=True, download=True, transform=train_transform)\n",
        "test_data = datasets.CIFAR10(root='data', train=False, download=True, transform=test_transform)"
      ],
      "metadata": {
        "colab": {
          "base_uri": "https://localhost:8080/"
        },
        "id": "fPvw-lqKBJWW",
        "outputId": "3f305a05-9c8e-42c9-e849-22070bc6b7fb"
      },
      "execution_count": null,
      "outputs": [
        {
          "output_type": "stream",
          "name": "stdout",
          "text": [
            "Files already downloaded and verified\n",
            "Files already downloaded and verified\n"
          ]
        }
      ]
    },
    {
      "cell_type": "code",
      "source": [
        "trainloader = DataLoader(dataset=train_data, \n",
        "                          batch_size=128,\n",
        "                          num_workers=1,\n",
        "                          shuffle=True)\n",
        "\n",
        "testloader = DataLoader(dataset=test_data, \n",
        "                         batch_size=128,\n",
        "                         num_workers=1,\n",
        "                         shuffle=True)"
      ],
      "metadata": {
        "id": "MfaqCJHiBsvR"
      },
      "execution_count": null,
      "outputs": []
    },
    {
      "cell_type": "markdown",
      "source": [
        "Σε αντίθεση με τα υπόλοιπα CNNs που δοκιμάστηκαν, το DenseNet BC συνδέει κάθε άλλο επίπεδο του δικτύου με feed forward λογική. Σε κάθε επίπεδο οι χάρτες των χαρακτηριστικών των προηγούμενων επιπέδων και του τωρινού επιπέδου χρησιμοποιούνται ως είσοδοι σε όλα τα επόμενα επίπεδα.\n",
        "Η διαφορά με το απλό DenseNet είναι πως το transition επίπεδο παράγει θm feature maps εξόδου,αν  m feature maps που περιέχει ένα dense μπλοκ. Το θ είναι ο παράγοντας σύμπτηξης(Further Compression) και είναι από 0 εώς 1, όπου όταν θ=1, ο αριθμός των feature maps δεν αλλάζει. Και το B αναφέρεται στα Bottleneck Layers. \n"
      ],
      "metadata": {
        "id": "FX4izDQ_kAVl"
      }
    },
    {
      "cell_type": "markdown",
      "source": [
        "Αρχικά, ορίζουμε μία κλάση Bottleneck. Τα επίπεδα Bottleneck είναι 1x1 convolutional layers, που τοποθετούνται πριν τα 3x3 conv layers για την αύξηση της ταχύτητας, καθώς ο αριθμός των εισόδων μπορεί να είναι πολύ υψηλός, ειδικά όσο προχωράμε στα επόμενα επίπεδα. Σημειώνεται, πως οι feauture maps εδώ είναι 4k. Η δομή του Bottleneck είναι η εξής: δύο conv layers με batch normalisation και ReLU ως συνάρτηση ενεργοποίησης, το 1ο με 1x1 kernel, το 2ο με 3x3 kernel.\n",
        "Στη συνέχεια, ορίζουμε την κλάση Transition όπου εκεί πραγματοποιούνται convolution και pooling (συγκεκριμένα average pooling) για να μειώσουν τον αριθμό των καναλιών στο μισό.\n",
        "Τέλος, ορίζεται η κλάση DenseNet, όπου οι διαστάσεις κάθε feature map είναι στθαερή αλλά αυτό που αλλάζει μεταξύ των μπλοκ είναι ο αριθμός των φίλτρων. "
      ],
      "metadata": {
        "id": "xK5FIzOGkdSz"
      }
    },
    {
      "cell_type": "code",
      "source": [
        "class Bottleneck(nn.Module):\n",
        "    def __init__(self, in_channels, growth_rate):\n",
        "        super().__init__()\n",
        "        #\"\"\"In  our experiments, we let each 1×1 convolution\n",
        "        #produce 4k feature-maps.\"\"\"\n",
        "        inner_channel = 4 * growth_rate\n",
        "\n",
        "        #\"\"\"We find this design especially effective for DenseNet and\n",
        "        #we refer to our network with such a bottleneck layer, i.e.,\n",
        "        #to the BN-ReLU-Conv(1×1)-BN-ReLU-Conv(3×3) version of H ` ,\n",
        "        #as DenseNet-B.\"\"\"\n",
        "        self.bottle_neck = nn.Sequential(\n",
        "            nn.BatchNorm2d(in_channels),\n",
        "            nn.ReLU(inplace=True),\n",
        "            nn.Conv2d(in_channels, inner_channel, kernel_size=1, bias=False),\n",
        "            nn.BatchNorm2d(inner_channel),\n",
        "            nn.ReLU(inplace=True),\n",
        "            nn.Conv2d(inner_channel, growth_rate, kernel_size=3, padding=1, bias=False)\n",
        "        )\n",
        "\n",
        "    def forward(self, x):\n",
        "        return torch.cat([x, self.bottle_neck(x)], 1)\n",
        "\n",
        "#\"\"\"We refer to layers between blocks as transition\n",
        "#layers, which do convolution and pooling.\"\"\"\n",
        "class Transition(nn.Module):\n",
        "    def __init__(self, in_channels, out_channels):\n",
        "        super().__init__()\n",
        "        #\"\"\"The transition layers used in our experiments\n",
        "        #consist of a batch normalization layer and an 1×1\n",
        "        #convolutional layer followed by a 2×2 average pooling\n",
        "        #layer\"\"\".\n",
        "        self.down_sample = nn.Sequential(\n",
        "            nn.BatchNorm2d(in_channels),\n",
        "            nn.Conv2d(in_channels, out_channels, 1, bias=False),\n",
        "            nn.AvgPool2d(2, stride=2)\n",
        "        )\n",
        "\n",
        "    def forward(self, x):\n",
        "        return self.down_sample(x)\n",
        "\n",
        "#DesneNet-BC\n",
        "#B stands for bottleneck layer(BN-RELU-CONV(1x1)-BN-RELU-CONV(3x3))\n",
        "#C stands for compression factor(0<=theta<=1)\n",
        "class DenseNet(nn.Module):\n",
        "    def __init__(self, block, nblocks, growth_rate=12, reduction=0.5, num_class=10):\n",
        "        super().__init__()\n",
        "        self.growth_rate = growth_rate\n",
        "\n",
        "        #\"\"\"Before entering the first dense block, a convolution\n",
        "        #with 16 (or twice the growth rate for DenseNet-BC)\n",
        "        #output channels is performed on the input images.\"\"\"\n",
        "        inner_channels = 2 * growth_rate\n",
        "\n",
        "        #For convolutional layers with kernel size 3×3, each\n",
        "        #side of the inputs is zero-padded by one pixel to keep\n",
        "        #the feature-map size fixed.\n",
        "        self.conv1 = nn.Conv2d(3, inner_channels, kernel_size=3, padding=1, bias=False)\n",
        "\n",
        "        self.features = nn.Sequential()\n",
        "\n",
        "        for index in range(len(nblocks) - 1):\n",
        "            self.features.add_module(\"dense_block_layer_{}\".format(index), self._make_dense_layers(block, inner_channels, nblocks[index]))\n",
        "            inner_channels += growth_rate * nblocks[index]\n",
        "\n",
        "            #\"\"\"If a dense block contains m feature-maps, we let the\n",
        "            #following transition layer generate θm output feature-\n",
        "            #maps, where 0 < θ ≤ 1 is referred to as the compression\n",
        "            #fac-tor.\n",
        "            out_channels = int(reduction * inner_channels) # int() will automatic floor the value\n",
        "            self.features.add_module(\"transition_layer_{}\".format(index), Transition(inner_channels, out_channels))\n",
        "            inner_channels = out_channels\n",
        "\n",
        "        self.features.add_module(\"dense_block{}\".format(len(nblocks) - 1), self._make_dense_layers(block, inner_channels, nblocks[len(nblocks)-1]))\n",
        "        inner_channels += growth_rate * nblocks[len(nblocks) - 1]\n",
        "        self.features.add_module('bn', nn.BatchNorm2d(inner_channels))\n",
        "        self.features.add_module('relu', nn.ReLU(inplace=True))\n",
        "\n",
        "        self.avgpool = nn.AdaptiveAvgPool2d((1, 1))\n",
        "\n",
        "        self.linear = nn.Linear(inner_channels, num_class)\n",
        "\n",
        "    def forward(self, x):\n",
        "        output = self.conv1(x)\n",
        "        output = self.features(output)\n",
        "        output = self.avgpool(output)\n",
        "        output = output.view(output.size()[0], -1)\n",
        "        output = self.linear(output)\n",
        "        return output\n",
        "\n",
        "    def _make_dense_layers(self, block, in_channels, nblocks):\n",
        "        dense_block = nn.Sequential()\n",
        "        for index in range(nblocks):\n",
        "            dense_block.add_module('bottle_neck_layer_{}'.format(index), block(in_channels, self.growth_rate))\n",
        "            in_channels += self.growth_rate\n",
        "        return dense_block\n",
        "\n",
        "def densenet121():\n",
        "    return DenseNet(Bottleneck, [6,12,24,16], growth_rate=32)\n",
        "\n",
        "def densenet169():\n",
        "    return DenseNet(Bottleneck, [6,12,32,32], growth_rate=32)\n",
        "\n",
        "def densenet201():\n",
        "    return DenseNet(Bottleneck, [6,12,48,32], growth_rate=32)\n",
        "\n",
        "def densenet161():\n",
        "    return DenseNet(Bottleneck, [6,12,36,24], growth_rate=48)"
      ],
      "metadata": {
        "id": "nO7tIf2lCL2D"
      },
      "execution_count": null,
      "outputs": []
    },
    {
      "cell_type": "code",
      "source": [
        "# number of epochs\n",
        "epochs = 50\n",
        "# learning rate\n",
        "learning_rate = 0.001\n",
        "device = torch.device('cuda:0' if torch.cuda.is_available() else \"cpu\")\n",
        "device"
      ],
      "metadata": {
        "colab": {
          "base_uri": "https://localhost:8080/"
        },
        "id": "1qE763ejCh5A",
        "outputId": "71d7fc15-8621-42ce-abfa-af41a9a6a415"
      },
      "execution_count": null,
      "outputs": [
        {
          "output_type": "execute_result",
          "data": {
            "text/plain": [
              "device(type='cuda', index=0)"
            ]
          },
          "metadata": {},
          "execution_count": 6
        }
      ]
    },
    {
      "cell_type": "code",
      "source": [
        "model = densenet121()"
      ],
      "metadata": {
        "id": "RFE30UkZClWH"
      },
      "execution_count": null,
      "outputs": []
    },
    {
      "cell_type": "code",
      "source": [
        "criterion = nn.CrossEntropyLoss()\n",
        "\n",
        "# set optimizer, only train the classifier parameters, feature parameters are frozen\n",
        "optimizer = Adam(model.parameters(), lr=learning_rate)"
      ],
      "metadata": {
        "id": "KP26bIgwCpG6"
      },
      "execution_count": null,
      "outputs": []
    },
    {
      "cell_type": "code",
      "source": [
        "train_stats = pd.DataFrame(columns = ['Epoch', 'Time per epoch', 'Avg time per step', 'Train loss', 'Train accuracy', 'Test loss', 'Test accuracy']) "
      ],
      "metadata": {
        "id": "zSo92ei_I6cJ"
      },
      "execution_count": null,
      "outputs": []
    },
    {
      "cell_type": "code",
      "source": [
        "#train the model\n",
        "model.to(device)\n",
        "\n",
        "steps = 0\n",
        "running_loss = 0\n",
        "for epoch in range(epochs):\n",
        "    \n",
        "    since = time.time()\n",
        "    \n",
        "    train_accuracy = 0\n",
        "\n",
        "    for inputs, labels in trainloader:\n",
        "        steps += 1\n",
        "        # Move input and label tensors to the default device\n",
        "        inputs, labels = inputs.to(device), labels.to(device)\n",
        "        \n",
        "        optimizer.zero_grad()\n",
        "        logps = model.forward(inputs)\n",
        "        loss = criterion(logps, labels)\n",
        "        loss.backward()\n",
        "        optimizer.step()\n",
        "\n",
        "        running_loss += loss.item()\n",
        "        \n",
        "        # calculate train top-1 accuracy\n",
        "        ps = torch.exp(logps)\n",
        "        top_p, top_class = ps.topk(1, dim=1)\n",
        "        equals = top_class == labels.view(*top_class.shape)\n",
        "        train_accuracy += torch.mean(equals.type(torch.FloatTensor)).item()\n",
        "        \n",
        "       \n",
        "        \n",
        "    time_elapsed = time.time() - since\n",
        "    test_loss = 0\n",
        "    test_accuracy = 0\n",
        "\n",
        "    model.eval()\n",
        "    with torch.no_grad():\n",
        "        for inputs, labels in testloader:\n",
        "            inputs, labels = inputs.to(device), labels.to(device)\n",
        "            logps = model.forward(inputs)\n",
        "            batch_loss = criterion(logps, labels)\n",
        "\n",
        "            test_loss += batch_loss.item()\n",
        "\n",
        "            # Calculate test top-1 accuracy\n",
        "            ps = torch.exp(logps)\n",
        "            top_p, top_class = ps.topk(1, dim=1)\n",
        "            equals = top_class == labels.view(*top_class.shape)\n",
        "            test_accuracy += torch.mean(equals.type(torch.FloatTensor)).item()\n",
        "          \n",
        "    print(f\"Epoch {epoch+1}/{epochs}.. \"\n",
        "          f\"Time per epoch: {time_elapsed:.4f}.. \"\n",
        "          f\"Average time per step: {time_elapsed/len(trainloader):.4f}.. \"\n",
        "          f\"Train loss: {running_loss/len(trainloader):.4f}.. \"\n",
        "          f\"Train accuracy: {train_accuracy/len(trainloader):.4f}.. \"\n",
        "          f\"Test loss: {test_loss/len(testloader):.4f}.. \"\n",
        "          f\"Test accuracy: {test_accuracy/len(testloader):.4f}.. \")\n",
        "  \n",
        "    train_stats = train_stats.append({'Epoch': epoch, 'Time per epoch':time_elapsed, 'Avg time per step': time_elapsed/len(trainloader), 'Train loss' : running_loss/len(trainloader), 'Train accuracy': train_accuracy/len(trainloader),'Test loss' : test_loss/len(testloader), 'Test accuracy': test_accuracy/len(testloader)}, ignore_index=True)\n",
        "    running_loss = 0\n",
        "    model.train()"
      ],
      "metadata": {
        "colab": {
          "base_uri": "https://localhost:8080/"
        },
        "id": "B4zepyp2xG9R",
        "outputId": "d802bc10-5503-4431-b313-dc7563f710d1"
      },
      "execution_count": null,
      "outputs": [
        {
          "output_type": "stream",
          "name": "stdout",
          "text": [
            "Epoch 1/50.. Time per epoch: 254.2141.. Average time per step: 0.6502.. Train loss: 1.6216.. Train accuracy: 0.3974.. Test loss: 1.4385.. Test accuracy: 0.4765.. \n",
            "Epoch 2/50.. Time per epoch: 263.7910.. Average time per step: 0.6747.. Train loss: 1.2574.. Train accuracy: 0.5397.. Test loss: 1.4979.. Test accuracy: 0.5173.. \n",
            "Epoch 3/50.. Time per epoch: 263.8578.. Average time per step: 0.6748.. Train loss: 1.0905.. Train accuracy: 0.6059.. Test loss: 1.0041.. Test accuracy: 0.6417.. \n",
            "Epoch 4/50.. Time per epoch: 264.2318.. Average time per step: 0.6758.. Train loss: 0.9720.. Train accuracy: 0.6519.. Test loss: 0.8665.. Test accuracy: 0.6883.. \n",
            "Epoch 5/50.. Time per epoch: 264.3613.. Average time per step: 0.6761.. Train loss: 0.8883.. Train accuracy: 0.6842.. Test loss: 0.7385.. Test accuracy: 0.7385.. \n",
            "Epoch 6/50.. Time per epoch: 264.0759.. Average time per step: 0.6754.. Train loss: 0.8136.. Train accuracy: 0.7124.. Test loss: 0.7560.. Test accuracy: 0.7370.. \n",
            "Epoch 7/50.. Time per epoch: 264.6540.. Average time per step: 0.6769.. Train loss: 0.7433.. Train accuracy: 0.7392.. Test loss: 0.5898.. Test accuracy: 0.7988.. \n",
            "Epoch 8/50.. Time per epoch: 264.6026.. Average time per step: 0.6767.. Train loss: 0.6860.. Train accuracy: 0.7598.. Test loss: 0.5889.. Test accuracy: 0.7948.. \n",
            "Epoch 9/50.. Time per epoch: 264.4107.. Average time per step: 0.6762.. Train loss: 0.6492.. Train accuracy: 0.7751.. Test loss: 0.5402.. Test accuracy: 0.8150.. \n",
            "Epoch 10/50.. Time per epoch: 263.9386.. Average time per step: 0.6750.. Train loss: 0.5999.. Train accuracy: 0.7905.. Test loss: 0.4913.. Test accuracy: 0.8277.. \n",
            "Epoch 11/50.. Time per epoch: 263.8265.. Average time per step: 0.6747.. Train loss: 0.5689.. Train accuracy: 0.8018.. Test loss: 0.4902.. Test accuracy: 0.8313.. \n",
            "Epoch 12/50.. Time per epoch: 264.2919.. Average time per step: 0.6759.. Train loss: 0.5355.. Train accuracy: 0.8129.. Test loss: 0.4831.. Test accuracy: 0.8345.. \n",
            "Epoch 13/50.. Time per epoch: 264.1340.. Average time per step: 0.6755.. Train loss: 0.5037.. Train accuracy: 0.8235.. Test loss: 0.4605.. Test accuracy: 0.8452.. \n",
            "Epoch 14/50.. Time per epoch: 264.1427.. Average time per step: 0.6756.. Train loss: 0.4761.. Train accuracy: 0.8327.. Test loss: 0.5041.. Test accuracy: 0.8323.. \n",
            "Epoch 15/50.. Time per epoch: 263.7609.. Average time per step: 0.6746.. Train loss: 0.4658.. Train accuracy: 0.8367.. Test loss: 0.3987.. Test accuracy: 0.8625.. \n",
            "Epoch 16/50.. Time per epoch: 263.8957.. Average time per step: 0.6749.. Train loss: 0.4393.. Train accuracy: 0.8452.. Test loss: 0.4059.. Test accuracy: 0.8632.. \n",
            "Epoch 17/50.. Time per epoch: 263.9389.. Average time per step: 0.6750.. Train loss: 0.4220.. Train accuracy: 0.8507.. Test loss: 0.3730.. Test accuracy: 0.8754.. \n",
            "Epoch 18/50.. Time per epoch: 264.4640.. Average time per step: 0.6764.. Train loss: 0.4059.. Train accuracy: 0.8578.. Test loss: 0.3764.. Test accuracy: 0.8742.. \n",
            "Epoch 19/50.. Time per epoch: 264.2952.. Average time per step: 0.6759.. Train loss: 0.3899.. Train accuracy: 0.8633.. Test loss: 0.3726.. Test accuracy: 0.8696.. \n",
            "Epoch 20/50.. Time per epoch: 264.2385.. Average time per step: 0.6758.. Train loss: 0.3724.. Train accuracy: 0.8699.. Test loss: 0.3729.. Test accuracy: 0.8733.. \n",
            "Epoch 21/50.. Time per epoch: 264.1448.. Average time per step: 0.6756.. Train loss: 0.3594.. Train accuracy: 0.8707.. Test loss: 0.3534.. Test accuracy: 0.8831.. \n",
            "Epoch 22/50.. Time per epoch: 264.4135.. Average time per step: 0.6762.. Train loss: 0.3449.. Train accuracy: 0.8789.. Test loss: 0.3541.. Test accuracy: 0.8825.. \n",
            "Epoch 23/50.. Time per epoch: 264.0049.. Average time per step: 0.6752.. Train loss: 0.3322.. Train accuracy: 0.8846.. Test loss: 0.3698.. Test accuracy: 0.8818.. \n",
            "Epoch 24/50.. Time per epoch: 264.3263.. Average time per step: 0.6760.. Train loss: 0.3208.. Train accuracy: 0.8860.. Test loss: 0.3341.. Test accuracy: 0.8890.. \n",
            "Epoch 25/50.. Time per epoch: 264.1542.. Average time per step: 0.6756.. Train loss: 0.3101.. Train accuracy: 0.8898.. Test loss: 0.3421.. Test accuracy: 0.8850.. \n",
            "Epoch 26/50.. Time per epoch: 264.5701.. Average time per step: 0.6766.. Train loss: 0.2986.. Train accuracy: 0.8928.. Test loss: 0.3722.. Test accuracy: 0.8803.. \n",
            "Epoch 27/50.. Time per epoch: 264.3333.. Average time per step: 0.6760.. Train loss: 0.2856.. Train accuracy: 0.8985.. Test loss: 0.3140.. Test accuracy: 0.8970.. \n",
            "Epoch 28/50.. Time per epoch: 264.6361.. Average time per step: 0.6768.. Train loss: 0.2761.. Train accuracy: 0.9027.. Test loss: 0.3377.. Test accuracy: 0.8937.. \n",
            "Epoch 29/50.. Time per epoch: 264.7665.. Average time per step: 0.6772.. Train loss: 0.2696.. Train accuracy: 0.9057.. Test loss: 0.3345.. Test accuracy: 0.8952.. \n",
            "Epoch 30/50.. Time per epoch: 264.3322.. Average time per step: 0.6760.. Train loss: 0.2611.. Train accuracy: 0.9084.. Test loss: 0.3132.. Test accuracy: 0.8974.. \n",
            "Epoch 31/50.. Time per epoch: 264.4586.. Average time per step: 0.6764.. Train loss: 0.2490.. Train accuracy: 0.9118.. Test loss: 0.3380.. Test accuracy: 0.8924.. \n",
            "Epoch 32/50.. Time per epoch: 264.8229.. Average time per step: 0.6773.. Train loss: 0.2437.. Train accuracy: 0.9128.. Test loss: 0.3314.. Test accuracy: 0.8947.. \n",
            "Epoch 33/50.. Time per epoch: 263.9509.. Average time per step: 0.6751.. Train loss: 0.2401.. Train accuracy: 0.9152.. Test loss: 0.3726.. Test accuracy: 0.8915.. \n",
            "Epoch 34/50.. Time per epoch: 263.6695.. Average time per step: 0.6743.. Train loss: 0.2274.. Train accuracy: 0.9192.. Test loss: 0.2977.. Test accuracy: 0.9042.. \n",
            "Epoch 35/50.. Time per epoch: 264.0466.. Average time per step: 0.6753.. Train loss: 0.2168.. Train accuracy: 0.9220.. Test loss: 0.3156.. Test accuracy: 0.9034.. \n",
            "Epoch 36/50.. Time per epoch: 263.7198.. Average time per step: 0.6745.. Train loss: 0.2109.. Train accuracy: 0.9259.. Test loss: 0.2982.. Test accuracy: 0.9076.. \n",
            "Epoch 37/50.. Time per epoch: 263.5117.. Average time per step: 0.6739.. Train loss: 0.2046.. Train accuracy: 0.9268.. Test loss: 0.3226.. Test accuracy: 0.8989.. \n",
            "Epoch 38/50.. Time per epoch: 263.2662.. Average time per step: 0.6733.. Train loss: 0.1994.. Train accuracy: 0.9296.. Test loss: 0.3696.. Test accuracy: 0.8880.. \n",
            "Epoch 39/50.. Time per epoch: 263.5488.. Average time per step: 0.6740.. Train loss: 0.1872.. Train accuracy: 0.9328.. Test loss: 0.3004.. Test accuracy: 0.9108.. \n",
            "Epoch 40/50.. Time per epoch: 263.4816.. Average time per step: 0.6739.. Train loss: 0.1882.. Train accuracy: 0.9335.. Test loss: 0.2996.. Test accuracy: 0.9124.. \n",
            "Epoch 41/50.. Time per epoch: 263.4357.. Average time per step: 0.6737.. Train loss: 0.1795.. Train accuracy: 0.9376.. Test loss: 0.3257.. Test accuracy: 0.9034.. \n",
            "Epoch 42/50.. Time per epoch: 263.6268.. Average time per step: 0.6742.. Train loss: 0.1761.. Train accuracy: 0.9379.. Test loss: 0.3154.. Test accuracy: 0.9077.. \n",
            "Epoch 43/50.. Time per epoch: 263.6465.. Average time per step: 0.6743.. Train loss: 0.1728.. Train accuracy: 0.9384.. Test loss: 0.3203.. Test accuracy: 0.9067.. \n",
            "Epoch 44/50.. Time per epoch: 263.8026.. Average time per step: 0.6747.. Train loss: 0.1669.. Train accuracy: 0.9401.. Test loss: 0.3302.. Test accuracy: 0.9020.. \n",
            "Epoch 45/50.. Time per epoch: 264.1314.. Average time per step: 0.6755.. Train loss: 0.1594.. Train accuracy: 0.9421.. Test loss: 0.3273.. Test accuracy: 0.9062.. \n",
            "Epoch 46/50.. Time per epoch: 263.5984.. Average time per step: 0.6742.. Train loss: 0.1591.. Train accuracy: 0.9430.. Test loss: 0.3077.. Test accuracy: 0.9109.. \n",
            "Epoch 47/50.. Time per epoch: 263.5474.. Average time per step: 0.6740.. Train loss: 0.1495.. Train accuracy: 0.9460.. Test loss: 0.3267.. Test accuracy: 0.9097.. \n",
            "Epoch 48/50.. Time per epoch: 263.8003.. Average time per step: 0.6747.. Train loss: 0.1518.. Train accuracy: 0.9455.. Test loss: 0.3170.. Test accuracy: 0.9152.. \n",
            "Epoch 49/50.. Time per epoch: 263.6025.. Average time per step: 0.6742.. Train loss: 0.1389.. Train accuracy: 0.9512.. Test loss: 0.3143.. Test accuracy: 0.9115.. \n",
            "Epoch 50/50.. Time per epoch: 263.5316.. Average time per step: 0.6740.. Train loss: 0.1401.. Train accuracy: 0.9495.. Test loss: 0.3117.. Test accuracy: 0.9144.. \n"
          ]
        }
      ]
    },
    {
      "cell_type": "code",
      "source": [
        "fig = plt.figure(figsize=(10,7))\n",
        "ax = plt.axes()\n",
        "\n",
        "plt.title(\"Accuracy\")\n",
        "plt.xlabel(\"Epochs\")\n",
        "plt.ylabel(\"Accuracy\");\n",
        "\n",
        "x = range(1, len(train_stats['Train accuracy'].values) + 1)\n",
        "ax.plot(x, train_stats['Train accuracy'].values, '-g', label='train accuracy');\n",
        "ax.plot(x, train_stats['Test accuracy'].values, '-b', label='test accuracy');\n",
        "\n",
        "plt.legend()"
      ],
      "metadata": {
        "colab": {
          "base_uri": "https://localhost:8080/",
          "height": 475
        },
        "id": "CttnEEXSIkhi",
        "outputId": "aca596ca-9c33-445a-beb7-2e95e294d91f"
      },
      "execution_count": null,
      "outputs": [
        {
          "output_type": "execute_result",
          "data": {
            "text/plain": [
              "<matplotlib.legend.Legend at 0x7f0087226640>"
            ]
          },
          "metadata": {},
          "execution_count": 12
        },
        {
          "output_type": "display_data",
          "data": {
            "text/plain": [
              "<Figure size 720x504 with 1 Axes>"
            ],
            "image/png": "[encoded data removed]"
          },
          "metadata": {
            "needs_background": "light"
          }
        }
      ]
    },
    {
      "cell_type": "markdown",
      "source": [
        "Παρατηρούμε, πως με τη χρήση DenseNet φτάσαμε την υψηλότερη απόδοση μέχρι 91% στο cifar-10 dataset. "
      ],
      "metadata": {
        "id": "RXxpd1_EAAKc"
      }
    },
    {
      "cell_type": "code",
      "source": [],
      "metadata": {
        "id": "oYd-hIU-AI7O"
      },
      "execution_count": null,
      "outputs": []
    }
  ]
}