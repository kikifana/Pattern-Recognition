{
  "nbformat": 4,
  "nbformat_minor": 0,
  "metadata": {
    "colab": {
      "provenance": []
    },
    "kernelspec": {
      "name": "python3",
      "display_name": "Python 3"
    },
    "language_info": {
      "name": "python"
    },
    "accelerator": "GPU",
    "gpuClass": "standard"
  },
  "cells": [
    {
      "cell_type": "markdown",
      "source": [
        "# 1. Μέρος 1ο – Ταξινόμηση με Συνελικτικά Νευρωνικά Δίκτυα (60%)\n",
        "### d. Πειραματιστείτε και προτείνετε ένα CNN δικής σας έμπνευσης που να βελτιστοποιεί την ακρίβεια ταξινόμησης στο test set χωρίς ενδείξεις overfitting."
      ],
      "metadata": {
        "id": "Cl1ElRHnjwYt"
      }
    },
    {
      "cell_type": "markdown",
      "source": [
        "Εδω αναλύθηκε το ερώτημα δ με μία ResNet αρχιτεκτονική και βλέπουμε πως φτάνει μέχρι τα 90% ακρίβεια."
      ],
      "metadata": {
        "id": "R5sfWJEJgXgd"
      }
    },
    {
      "cell_type": "code",
      "execution_count": null,
      "metadata": {
        "id": "yNHWiFnpLsZp"
      },
      "outputs": [],
      "source": [
        "import numpy as np \n",
        "import pandas as pd\n",
        "import os\n",
        "import time\n",
        "import matplotlib.pyplot as plt\n",
        "import torch\n",
        "import torch.nn as nn\n",
        "import torch.nn.functional as F\n",
        "from torch.optim import SGD,Adam,lr_scheduler\n",
        "from torch.utils.data import random_split\n",
        "import torchvision\n",
        "from torchvision import transforms, datasets\n",
        "from torch.utils.data import DataLoader"
      ]
    },
    {
      "cell_type": "code",
      "source": [
        "train_transform = transforms.Compose([\n",
        "                                      transforms.RandomHorizontalFlip(p = 0.4), # FLips the image w.r.t horizontal axis\n",
        "                                      transforms.RandomRotation(30), #Rotates the image to a specified angel\n",
        "                                      transforms.Pad(4),\n",
        "                                      transforms.RandomAffine(0, shear=10, scale=(0.8,1.2)), #Performs actions like zooms, change shear angles.\n",
        "                                      transforms.ColorJitter(brightness=0.2, contrast=0.2, saturation=0.2), # Set the color params\n",
        "                                      transforms.ToTensor(), # comvert the image to tensor so that it can work with torch\n",
        "                                      transforms.Normalize((0.5, 0.5, 0.5), (0.5, 0.5, 0.5)) #Normalize all the images\n",
        "                               ])\n",
        " \n",
        " \n",
        "test_transform = transforms.Compose([\n",
        "                               transforms.Pad(4),\n",
        "                               transforms.ToTensor(),\n",
        "                               transforms.Normalize((0.5, 0.5, 0.5), (0.5, 0.5, 0.5))\n",
        "                               ])"
      ],
      "metadata": {
        "id": "4DIOFgbnLxXv"
      },
      "execution_count": null,
      "outputs": []
    },
    {
      "cell_type": "code",
      "source": [
        "train_data = datasets.CIFAR10(root='data', train=True, download=True, transform=train_transform)\n",
        "test_data = datasets.CIFAR10(root='data', train=False, download=True, transform=test_transform)\n",
        "\n",
        "trainloader = DataLoader(dataset=train_data, \n",
        "                          batch_size=128,\n",
        "                          num_workers=2,\n",
        "                          shuffle=True)\n",
        "\n",
        "testloader = DataLoader(dataset=test_data, \n",
        "                         batch_size=128,\n",
        "                         num_workers=2,\n",
        "                         shuffle=True)"
      ],
      "metadata": {
        "colab": {
          "base_uri": "https://localhost:8080/"
        },
        "id": "SXDEOjrCNOrZ",
        "outputId": "ba145a9b-49bc-4884-df69-e0afdee6a137"
      },
      "execution_count": null,
      "outputs": [
        {
          "output_type": "stream",
          "name": "stdout",
          "text": [
            "Files already downloaded and verified\n",
            "Files already downloaded and verified\n"
          ]
        }
      ]
    },
    {
      "cell_type": "markdown",
      "source": [
        "Το πρώτο βήμα για την αρχιτεκτονική του ResNet είναι ο ορισμός του 1ου μπλοκ όπου γίνεται convolution και max pooling καθώς και batch normalisation. \n",
        "Στη συνέχεια ορίζονται τα επίπεδα ResNet μέσω της κλάσης ResNet. \n",
        "Για την \"μεταπήδηση\" στην έξοδο χρησιμοποιούνται shortcuts. Εδώ χρησιμοποιούμε 1x1 convolutions ώστε να έχω ίδιο μέγεθος με την έξοδο. "
      ],
      "metadata": {
        "id": "_z5VYbo5ibhQ"
      }
    },
    {
      "cell_type": "code",
      "source": [
        "class BasicBlock(nn.Module):\n",
        "\n",
        "\n",
        "    #BasicBlock and BottleNeck block\n",
        "    #have different output size\n",
        "    #we use class attribute expansion\n",
        "    #to distinct\n",
        "    expansion = 1\n",
        "\n",
        "    def __init__(self, in_channels, out_channels, stride=1):\n",
        "        super().__init__()\n",
        "\n",
        "        #residual function\n",
        "        self.residual_function = nn.Sequential(\n",
        "            nn.Conv2d(in_channels, out_channels, kernel_size=3, stride=stride, padding=1, bias=False),\n",
        "            nn.BatchNorm2d(out_channels),\n",
        "            nn.ReLU(inplace=True),\n",
        "            nn.Conv2d(out_channels, out_channels * BasicBlock.expansion, kernel_size=3, padding=1, bias=False),\n",
        "            nn.BatchNorm2d(out_channels * BasicBlock.expansion)\n",
        "        )\n",
        "\n",
        "        #shortcut\n",
        "        self.shortcut = nn.Sequential()\n",
        "\n",
        "        #the shortcut output dimension is not the same with residual function\n",
        "        #use 1*1 convolution to match the dimension\n",
        "        if stride != 1 or in_channels != BasicBlock.expansion * out_channels:\n",
        "            self.shortcut = nn.Sequential(\n",
        "                nn.Conv2d(in_channels, out_channels * BasicBlock.expansion, kernel_size=1, stride=stride, bias=False),\n",
        "                nn.BatchNorm2d(out_channels * BasicBlock.expansion)\n",
        "            )\n",
        "\n",
        "   \n",
        "\n",
        "    def forward(self, x):\n",
        "        return nn.ReLU(inplace=True)(self.residual_function(x) + self.shortcut(x))\n",
        "\n",
        "class ResNet(nn.Module):\n",
        "\n",
        "    def __init__(self, block, num_block, num_classes=10):\n",
        "        super().__init__()\n",
        "\n",
        "        self.in_channels = 64\n",
        "\n",
        "        self.conv1 = nn.Sequential(\n",
        "            nn.Conv2d(3, 64, kernel_size=3, padding=1, bias=False),\n",
        "            nn.BatchNorm2d(64),\n",
        "            nn.ReLU(inplace=True))\n",
        "        #we use a different inputsize than the original paper\n",
        "        #so conv2_x's stride is 1\n",
        "        self.conv2_x = self._make_layer(block, 64, num_block[0], 1)\n",
        "        self.conv3_x = self._make_layer(block, 128, num_block[1], 2)\n",
        "        self.conv4_x = self._make_layer(block, 256, num_block[2], 2)\n",
        "        self.conv5_x = self._make_layer(block, 512, num_block[3], 2)\n",
        "        self.avg_pool = nn.AdaptiveAvgPool2d((1, 1))\n",
        "        self.fc = nn.Linear(512 * block.expansion, num_classes)\n",
        "\n",
        "    def _make_layer(self, block, out_channels, num_blocks, stride):\n",
        "        \"\"\"make resnet layers(by layer i didnt mean this 'layer' was the\n",
        "        same as a neuron netowork layer, ex. conv layer), one layer may\n",
        "        contain more than one residual block\n",
        "        Args:\n",
        "            block: block type, basic block or bottle neck block\n",
        "            out_channels: output depth channel number of this layer\n",
        "            num_blocks: how many blocks per layer\n",
        "            stride: the stride of the first block of this layer\n",
        "        Return:\n",
        "            return a resnet layer\n",
        "        \"\"\"\n",
        "\n",
        "        # we have num_block blocks per layer, the first block\n",
        "        # could be 1 or 2, other blocks would always be 1\n",
        "        strides = [stride] + [1] * (num_blocks - 1)\n",
        "        layers = []\n",
        "        for stride in strides:\n",
        "            layers.append(block(self.in_channels, out_channels, stride))\n",
        "            self.in_channels = out_channels * block.expansion\n",
        "\n",
        "        return nn.Sequential(*layers)\n",
        "\n",
        "    def forward(self, x):\n",
        "        output = self.conv1(x)\n",
        "        output = self.conv2_x(output)\n",
        "        output = self.conv3_x(output)\n",
        "        output = self.conv4_x(output)\n",
        "        output = self.conv5_x(output)\n",
        "        output = self.avg_pool(output)\n",
        "        output = output.view(output.size(0), -1)\n",
        "        output = self.fc(output)\n",
        "\n",
        "        return output\n",
        "\n",
        "def resnet18():\n",
        "    \"\"\" return a ResNet 18 object\n",
        "    \"\"\"\n",
        "    return ResNet(BasicBlock, [2, 2, 2, 2])\n"
      ],
      "metadata": {
        "id": "7HXYoaYENV86"
      },
      "execution_count": null,
      "outputs": []
    },
    {
      "cell_type": "code",
      "source": [
        "# number of epochs\n",
        "epochs = 50\n",
        "# learning rate\n",
        "learning_rate = 0.001\n",
        "device = torch.device('cuda:0' if torch.cuda.is_available() else \"cpu\")\n",
        "device"
      ],
      "metadata": {
        "id": "jogm2rHvXFZy",
        "colab": {
          "base_uri": "https://localhost:8080/"
        },
        "outputId": "1d9b8778-e276-4e51-d423-89573d9413e6"
      },
      "execution_count": null,
      "outputs": [
        {
          "output_type": "execute_result",
          "data": {
            "text/plain": [
              "device(type='cuda', index=0)"
            ]
          },
          "metadata": {},
          "execution_count": 5
        }
      ]
    },
    {
      "cell_type": "code",
      "source": [
        "model = resnet18()"
      ],
      "metadata": {
        "id": "AF51ZTzEGim2"
      },
      "execution_count": null,
      "outputs": []
    },
    {
      "cell_type": "code",
      "source": [
        "criterion = nn.CrossEntropyLoss()\n",
        "\n",
        "# set optimizer, only train the classifier parameters, feature parameters are frozen\n",
        "optimizer = Adam(model.parameters(), lr=learning_rate)"
      ],
      "metadata": {
        "id": "EEQAK_2nGpap"
      },
      "execution_count": null,
      "outputs": []
    },
    {
      "cell_type": "code",
      "source": [
        "train_stats = pd.DataFrame(columns = ['Epoch', 'Time per epoch', 'Avg time per step', 'Train loss', 'Train accuracy', 'Test loss', 'Test accuracy']) "
      ],
      "metadata": {
        "id": "VxgZHgYdGrMZ"
      },
      "execution_count": null,
      "outputs": []
    },
    {
      "cell_type": "code",
      "source": [
        "#train the model\n",
        "model.to(device)\n",
        "\n",
        "steps = 0\n",
        "running_loss = 0\n",
        "for epoch in range(epochs):\n",
        "    \n",
        "    since = time.time()\n",
        "    \n",
        "    train_accuracy = 0\n",
        "\n",
        "    for inputs, labels in trainloader:\n",
        "        steps += 1\n",
        "        # Move input and label tensors to the default device\n",
        "        inputs, labels = inputs.to(device), labels.to(device)\n",
        "        \n",
        "        optimizer.zero_grad()\n",
        "        logps = model.forward(inputs)\n",
        "        loss = criterion(logps, labels)\n",
        "        loss.backward()\n",
        "        optimizer.step()\n",
        "\n",
        "        running_loss += loss.item()\n",
        "        \n",
        "        # calculate train top-1 accuracy\n",
        "        ps = torch.exp(logps)\n",
        "        top_p, top_class = ps.topk(1, dim=1)\n",
        "        equals = top_class == labels.view(*top_class.shape)\n",
        "        train_accuracy += torch.mean(equals.type(torch.FloatTensor)).item()\n",
        "        \n",
        "       \n",
        "        \n",
        "    time_elapsed = time.time() - since\n",
        "    test_loss = 0\n",
        "    test_accuracy = 0\n",
        "\n",
        "    model.eval()\n",
        "    with torch.no_grad():\n",
        "        for inputs, labels in testloader:\n",
        "            inputs, labels = inputs.to(device), labels.to(device)\n",
        "            logps = model.forward(inputs)\n",
        "            batch_loss = criterion(logps, labels)\n",
        "\n",
        "            test_loss += batch_loss.item()\n",
        "\n",
        "            # Calculate test top-1 accuracy\n",
        "            ps = torch.exp(logps)\n",
        "            top_p, top_class = ps.topk(1, dim=1)\n",
        "            equals = top_class == labels.view(*top_class.shape)\n",
        "            test_accuracy += torch.mean(equals.type(torch.FloatTensor)).item()\n",
        "          \n",
        "    print(f\"Epoch {epoch+1}/{epochs}.. \"\n",
        "          f\"Time per epoch: {time_elapsed:.4f}.. \"\n",
        "          f\"Average time per step: {time_elapsed/len(trainloader):.4f}.. \"\n",
        "          f\"Train loss: {running_loss/len(trainloader):.4f}.. \"\n",
        "          f\"Train accuracy: {train_accuracy/len(trainloader):.4f}.. \"\n",
        "          f\"Test loss: {test_loss/len(testloader):.4f}.. \"\n",
        "          f\"Test accuracy: {test_accuracy/len(testloader):.4f}.. \")\n",
        "  \n",
        "    train_stats = train_stats.append({'Epoch': epoch, 'Time per epoch':time_elapsed, 'Avg time per step': time_elapsed/len(trainloader), 'Train loss' : running_loss/len(trainloader), 'Train accuracy': train_accuracy/len(trainloader),'Test loss' : test_loss/len(testloader), 'Test accuracy': test_accuracy/len(testloader)}, ignore_index=True)\n",
        "    running_loss = 0\n",
        "    model.train()"
      ],
      "metadata": {
        "colab": {
          "base_uri": "https://localhost:8080/"
        },
        "id": "mlqIDI2yGtGA",
        "outputId": "7e1f3505-5eac-4b4a-83ab-529bf197dee8"
      },
      "execution_count": null,
      "outputs": [
        {
          "output_type": "stream",
          "name": "stdout",
          "text": [
            "Epoch 1/50.. Time per epoch: 70.9783.. Average time per step: 0.1815.. Train loss: 1.6231.. Train accuracy: 0.4044.. Test loss: 1.4856.. Test accuracy: 0.4473.. \n",
            "Epoch 2/50.. Time per epoch: 67.2342.. Average time per step: 0.1720.. Train loss: 1.2628.. Train accuracy: 0.5408.. Test loss: 1.3124.. Test accuracy: 0.5359.. \n",
            "Epoch 3/50.. Time per epoch: 67.4423.. Average time per step: 0.1725.. Train loss: 1.0890.. Train accuracy: 0.6096.. Test loss: 0.9841.. Test accuracy: 0.6446.. \n",
            "Epoch 4/50.. Time per epoch: 67.1019.. Average time per step: 0.1716.. Train loss: 0.9836.. Train accuracy: 0.6510.. Test loss: 0.8835.. Test accuracy: 0.6843.. \n",
            "Epoch 5/50.. Time per epoch: 67.1574.. Average time per step: 0.1718.. Train loss: 0.8922.. Train accuracy: 0.6859.. Test loss: 0.7869.. Test accuracy: 0.7299.. \n",
            "Epoch 6/50.. Time per epoch: 67.2698.. Average time per step: 0.1720.. Train loss: 0.8147.. Train accuracy: 0.7108.. Test loss: 0.7947.. Test accuracy: 0.7211.. \n",
            "Epoch 7/50.. Time per epoch: 67.1513.. Average time per step: 0.1717.. Train loss: 0.7567.. Train accuracy: 0.7351.. Test loss: 0.7644.. Test accuracy: 0.7443.. \n",
            "Epoch 8/50.. Time per epoch: 67.0704.. Average time per step: 0.1715.. Train loss: 0.6962.. Train accuracy: 0.7590.. Test loss: 0.7524.. Test accuracy: 0.7469.. \n",
            "Epoch 9/50.. Time per epoch: 67.1577.. Average time per step: 0.1718.. Train loss: 0.6475.. Train accuracy: 0.7730.. Test loss: 0.6093.. Test accuracy: 0.7850.. \n",
            "Epoch 10/50.. Time per epoch: 67.1295.. Average time per step: 0.1717.. Train loss: 0.6095.. Train accuracy: 0.7874.. Test loss: 0.5735.. Test accuracy: 0.8046.. \n",
            "Epoch 11/50.. Time per epoch: 67.0829.. Average time per step: 0.1716.. Train loss: 0.5747.. Train accuracy: 0.8001.. Test loss: 0.4929.. Test accuracy: 0.8292.. \n",
            "Epoch 12/50.. Time per epoch: 67.0638.. Average time per step: 0.1715.. Train loss: 0.5489.. Train accuracy: 0.8085.. Test loss: 0.4540.. Test accuracy: 0.8454.. \n",
            "Epoch 13/50.. Time per epoch: 67.2321.. Average time per step: 0.1719.. Train loss: 0.5211.. Train accuracy: 0.8185.. Test loss: 0.4716.. Test accuracy: 0.8377.. \n",
            "Epoch 14/50.. Time per epoch: 67.1232.. Average time per step: 0.1717.. Train loss: 0.4963.. Train accuracy: 0.8263.. Test loss: 0.4203.. Test accuracy: 0.8509.. \n",
            "Epoch 15/50.. Time per epoch: 66.9902.. Average time per step: 0.1713.. Train loss: 0.4671.. Train accuracy: 0.8361.. Test loss: 0.4030.. Test accuracy: 0.8652.. \n",
            "Epoch 16/50.. Time per epoch: 67.1772.. Average time per step: 0.1718.. Train loss: 0.4518.. Train accuracy: 0.8431.. Test loss: 0.4221.. Test accuracy: 0.8587.. \n",
            "Epoch 17/50.. Time per epoch: 66.9450.. Average time per step: 0.1712.. Train loss: 0.4269.. Train accuracy: 0.8499.. Test loss: 0.4260.. Test accuracy: 0.8557.. \n",
            "Epoch 18/50.. Time per epoch: 67.0295.. Average time per step: 0.1714.. Train loss: 0.4118.. Train accuracy: 0.8569.. Test loss: 0.3804.. Test accuracy: 0.8726.. \n",
            "Epoch 19/50.. Time per epoch: 67.2421.. Average time per step: 0.1720.. Train loss: 0.3964.. Train accuracy: 0.8615.. Test loss: 0.3792.. Test accuracy: 0.8731.. \n",
            "Epoch 20/50.. Time per epoch: 66.9434.. Average time per step: 0.1712.. Train loss: 0.3755.. Train accuracy: 0.8683.. Test loss: 0.3748.. Test accuracy: 0.8722.. \n",
            "Epoch 21/50.. Time per epoch: 67.0451.. Average time per step: 0.1715.. Train loss: 0.3659.. Train accuracy: 0.8724.. Test loss: 0.3726.. Test accuracy: 0.8755.. \n",
            "Epoch 22/50.. Time per epoch: 67.2383.. Average time per step: 0.1720.. Train loss: 0.3544.. Train accuracy: 0.8747.. Test loss: 0.3734.. Test accuracy: 0.8778.. \n",
            "Epoch 23/50.. Time per epoch: 67.0517.. Average time per step: 0.1715.. Train loss: 0.3382.. Train accuracy: 0.8800.. Test loss: 0.3353.. Test accuracy: 0.8901.. \n",
            "Epoch 24/50.. Time per epoch: 66.9104.. Average time per step: 0.1711.. Train loss: 0.3194.. Train accuracy: 0.8878.. Test loss: 0.3539.. Test accuracy: 0.8811.. \n",
            "Epoch 25/50.. Time per epoch: 67.2928.. Average time per step: 0.1721.. Train loss: 0.3084.. Train accuracy: 0.8893.. Test loss: 0.3622.. Test accuracy: 0.8795.. \n",
            "Epoch 26/50.. Time per epoch: 66.9840.. Average time per step: 0.1713.. Train loss: 0.3027.. Train accuracy: 0.8938.. Test loss: 0.3713.. Test accuracy: 0.8830.. \n",
            "Epoch 27/50.. Time per epoch: 67.0114.. Average time per step: 0.1714.. Train loss: 0.2874.. Train accuracy: 0.8990.. Test loss: 0.3321.. Test accuracy: 0.8929.. \n",
            "Epoch 28/50.. Time per epoch: 67.0585.. Average time per step: 0.1715.. Train loss: 0.2772.. Train accuracy: 0.9027.. Test loss: 0.3681.. Test accuracy: 0.8832.. \n",
            "Epoch 29/50.. Time per epoch: 66.9581.. Average time per step: 0.1712.. Train loss: 0.2659.. Train accuracy: 0.9056.. Test loss: 0.3427.. Test accuracy: 0.8884.. \n",
            "Epoch 30/50.. Time per epoch: 66.9303.. Average time per step: 0.1712.. Train loss: 0.2635.. Train accuracy: 0.9066.. Test loss: 0.3604.. Test accuracy: 0.8830.. \n",
            "Epoch 31/50.. Time per epoch: 66.9075.. Average time per step: 0.1711.. Train loss: 0.2490.. Train accuracy: 0.9111.. Test loss: 0.3416.. Test accuracy: 0.8914.. \n",
            "Epoch 32/50.. Time per epoch: 67.1156.. Average time per step: 0.1717.. Train loss: 0.2354.. Train accuracy: 0.9172.. Test loss: 0.3444.. Test accuracy: 0.8893.. \n",
            "Epoch 33/50.. Time per epoch: 66.9850.. Average time per step: 0.1713.. Train loss: 0.2302.. Train accuracy: 0.9184.. Test loss: 0.3342.. Test accuracy: 0.8944.. \n",
            "Epoch 34/50.. Time per epoch: 66.9188.. Average time per step: 0.1711.. Train loss: 0.2270.. Train accuracy: 0.9193.. Test loss: 0.3484.. Test accuracy: 0.8944.. \n",
            "Epoch 35/50.. Time per epoch: 67.1702.. Average time per step: 0.1718.. Train loss: 0.2121.. Train accuracy: 0.9248.. Test loss: 0.3458.. Test accuracy: 0.8957.. \n",
            "Epoch 36/50.. Time per epoch: 66.8711.. Average time per step: 0.1710.. Train loss: 0.2051.. Train accuracy: 0.9281.. Test loss: 0.3301.. Test accuracy: 0.8997.. \n",
            "Epoch 37/50.. Time per epoch: 67.0039.. Average time per step: 0.1714.. Train loss: 0.2014.. Train accuracy: 0.9279.. Test loss: 0.3463.. Test accuracy: 0.8973.. \n",
            "Epoch 38/50.. Time per epoch: 67.1545.. Average time per step: 0.1718.. Train loss: 0.1957.. Train accuracy: 0.9311.. Test loss: 0.3269.. Test accuracy: 0.9008.. \n",
            "Epoch 39/50.. Time per epoch: 66.9424.. Average time per step: 0.1712.. Train loss: 0.1864.. Train accuracy: 0.9335.. Test loss: 0.3539.. Test accuracy: 0.8977.. \n",
            "Epoch 40/50.. Time per epoch: 66.9494.. Average time per step: 0.1712.. Train loss: 0.1864.. Train accuracy: 0.9327.. Test loss: 0.3208.. Test accuracy: 0.9033.. \n",
            "Epoch 41/50.. Time per epoch: 67.0416.. Average time per step: 0.1715.. Train loss: 0.1775.. Train accuracy: 0.9368.. Test loss: 0.3429.. Test accuracy: 0.8967.. \n",
            "Epoch 42/50.. Time per epoch: 66.8779.. Average time per step: 0.1710.. Train loss: 0.1773.. Train accuracy: 0.9374.. Test loss: 0.3400.. Test accuracy: 0.9016.. \n",
            "Epoch 43/50.. Time per epoch: 66.9359.. Average time per step: 0.1712.. Train loss: 0.1646.. Train accuracy: 0.9420.. Test loss: 0.3972.. Test accuracy: 0.8846.. \n",
            "Epoch 44/50.. Time per epoch: 67.0650.. Average time per step: 0.1715.. Train loss: 0.1567.. Train accuracy: 0.9441.. Test loss: 0.3355.. Test accuracy: 0.9048.. \n",
            "Epoch 45/50.. Time per epoch: 66.9822.. Average time per step: 0.1713.. Train loss: 0.1539.. Train accuracy: 0.9450.. Test loss: 0.3446.. Test accuracy: 0.9033.. \n",
            "Epoch 46/50.. Time per epoch: 66.8688.. Average time per step: 0.1710.. Train loss: 0.1489.. Train accuracy: 0.9464.. Test loss: 0.3863.. Test accuracy: 0.8953.. \n",
            "Epoch 47/50.. Time per epoch: 67.1292.. Average time per step: 0.1717.. Train loss: 0.1455.. Train accuracy: 0.9501.. Test loss: 0.3373.. Test accuracy: 0.9042.. \n",
            "Epoch 48/50.. Time per epoch: 66.9587.. Average time per step: 0.1712.. Train loss: 0.1371.. Train accuracy: 0.9513.. Test loss: 0.3348.. Test accuracy: 0.9079.. \n",
            "Epoch 49/50.. Time per epoch: 66.8722.. Average time per step: 0.1710.. Train loss: 0.1434.. Train accuracy: 0.9480.. Test loss: 0.3639.. Test accuracy: 0.9017.. \n",
            "Epoch 50/50.. Time per epoch: 67.2790.. Average time per step: 0.1721.. Train loss: 0.1411.. Train accuracy: 0.9499.. Test loss: 0.3504.. Test accuracy: 0.9076.. \n"
          ]
        }
      ]
    },
    {
      "cell_type": "markdown",
      "source": [
        "Παρατηρούμε, πως και το ResNet φτάνει πολύ υψηλή ακρίβεια, χωρίς overfit. Γενικά, το ResNet και το DenseNet επιλέχθηκαν καθώς λύνουν το πρόβλημα των vanishing gradients, και μπορούν να αποδώσουν καλά σε μεγάλα dataset. "
      ],
      "metadata": {
        "id": "zJBVbkbtohkI"
      }
    },
    {
      "cell_type": "code",
      "source": [
        "fig = plt.figure(figsize=(10,7))\n",
        "ax = plt.axes()\n",
        "\n",
        "plt.title(\"Accuracy\")\n",
        "plt.xlabel(\"Epochs\")\n",
        "plt.ylabel(\"Accuracy\");\n",
        "\n",
        "x = range(1, len(train_stats['Train accuracy'].values) + 1)\n",
        "ax.plot(x, train_stats['Train accuracy'].values, '-g', label='train accuracy');\n",
        "ax.plot(x, train_stats['Test accuracy'].values, '-b', label='test accuracy');\n",
        "\n",
        "plt.legend()"
      ],
      "metadata": {
        "colab": {
          "base_uri": "https://localhost:8080/",
          "height": 475
        },
        "id": "DgYokwGFGw9e",
        "outputId": "e67e2aa5-dc46-486e-9eca-fbc4a4497641"
      },
      "execution_count": null,
      "outputs": [
        {
          "output_type": "execute_result",
          "data": {
            "text/plain": [
              "<matplotlib.legend.Legend at 0x7f86482d0e20>"
            ]
          },
          "metadata": {},
          "execution_count": 10
        },
        {
          "output_type": "display_data",
          "data": {
            "text/plain": [
              "<Figure size 720x504 with 1 Axes>"
            ],
            "image/png": "[encoded data removed]"
          },
          "metadata": {
            "needs_background": "light"
          }
        }
      ]
    },
    {
      "cell_type": "code",
      "source": [],
      "metadata": {
        "id": "bNkgHeyWgTW8"
      },
      "execution_count": null,
      "outputs": []
    }
  ]
}